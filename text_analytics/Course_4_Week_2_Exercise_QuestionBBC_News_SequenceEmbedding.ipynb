{
  "nbformat": 4,
  "nbformat_minor": 0,
  "metadata": {
    "colab": {
      "name": "Course 4 - Week 2 - Exercise - Question.ipynb",
      "version": "0.3.2",
      "provenance": [],
      "include_colab_link": true
    },
    "kernelspec": {
      "name": "python3",
      "display_name": "Python 3"
    },
    "accelerator": "GPU"
  },
  "cells": [
    {
      "cell_type": "markdown",
      "metadata": {
        "id": "view-in-github",
        "colab_type": "text"
      },
      "source": [
        "<a href=\"https://colab.research.google.com/github/kd303/tensorflow_coursera/blob/master/text_analytics/Course_4_Week_2_Exercise_QuestionBBC_News_SequenceEmbedding.ipynb\" target=\"_parent\"><img src=\"https://colab.research.google.com/assets/colab-badge.svg\" alt=\"Open In Colab\"/></a>"
      ]
    },
    {
      "cell_type": "code",
      "metadata": {
        "id": "gnwiOnGyW5JK",
        "colab_type": "code",
        "outputId": "8e4a3427-2621-4d2b-8a85-e63c7db8684d",
        "colab": {
          "base_uri": "https://localhost:8080/",
          "height": 204
        }
      },
      "source": [
        "import csv\n",
        "import tensorflow as tf\n",
        "import numpy as np\n",
        "from tensorflow.keras.preprocessing.text import Tokenizer\n",
        "from tensorflow.keras.preprocessing.sequence import pad_sequences\n",
        "\n",
        "!wget --no-check-certificate \\\n",
        "    https://storage.googleapis.com/laurencemoroney-blog.appspot.com/bbc-text.csv \\\n",
        "    -O /tmp/bbc-text.csv"
      ],
      "execution_count": 0,
      "outputs": [
        {
          "output_type": "stream",
          "text": [
            "--2019-08-16 08:37:22--  https://storage.googleapis.com/laurencemoroney-blog.appspot.com/bbc-text.csv\n",
            "Resolving storage.googleapis.com (storage.googleapis.com)... 74.125.142.128, 2607:f8b0:400e:c09::80\n",
            "Connecting to storage.googleapis.com (storage.googleapis.com)|74.125.142.128|:443... connected.\n",
            "HTTP request sent, awaiting response... 200 OK\n",
            "Length: 5057493 (4.8M) [application/octet-stream]\n",
            "Saving to: ‘/tmp/bbc-text.csv’\n",
            "\n",
            "\r/tmp/bbc-text.csv     0%[                    ]       0  --.-KB/s               \r/tmp/bbc-text.csv   100%[===================>]   4.82M  --.-KB/s    in 0.07s   \n",
            "\n",
            "2019-08-16 08:37:23 (70.0 MB/s) - ‘/tmp/bbc-text.csv’ saved [5057493/5057493]\n",
            "\n"
          ],
          "name": "stdout"
        }
      ]
    },
    {
      "cell_type": "code",
      "metadata": {
        "id": "EYo6A4v5ZABQ",
        "colab_type": "code",
        "colab": {}
      },
      "source": [
        "vocab_size = 50000 # YOUR CODE HERE\n",
        "embedding_dim = 16 # YOUR CODE HERE\n",
        "max_length = 250 # YOUR CODE HERE\n",
        "trunc_type = 'post'# YOUR CODE HERE\n",
        "padding_type = 'post'# YOUR CODE HERE\n",
        "oov_tok = '<oov>'# YOUR CODE HERE\n",
        "training_portion = .8"
      ],
      "execution_count": 0,
      "outputs": []
    },
    {
      "cell_type": "code",
      "metadata": {
        "id": "iU1qq3_SZBx_",
        "colab_type": "code",
        "outputId": "2012127c-83fb-4e39-a984-bd8068b407bb",
        "colab": {
          "base_uri": "https://localhost:8080/",
          "height": 34
        }
      },
      "source": [
        "sentences = []\n",
        "labels = []\n",
        "stopwords = [ \"a\", \"about\", \"above\", \"after\", \"again\", \"against\", \"all\", \"am\", \"an\", \"and\", \"any\", \"are\", \"as\", \"at\", \"be\", \"because\", \"been\", \"before\", \"being\", \"below\", \"between\", \"both\", \"but\", \"by\", \"could\", \"did\", \"do\", \"does\", \"doing\", \"down\", \"during\", \"each\", \"few\", \"for\", \"from\", \"further\", \"had\", \"has\", \"have\", \"having\", \"he\", \"he'd\", \"he'll\", \"he's\", \"her\", \"here\", \"here's\", \"hers\", \"herself\", \"him\", \"himself\", \"his\", \"how\", \"how's\", \"i\", \"i'd\", \"i'll\", \"i'm\", \"i've\", \"if\", \"in\", \"into\", \"is\", \"it\", \"it's\", \"its\", \"itself\", \"let's\", \"me\", \"more\", \"most\", \"my\", \"myself\", \"nor\", \"of\", \"on\", \"once\", \"only\", \"or\", \"other\", \"ought\", \"our\", \"ours\", \"ourselves\", \"out\", \"over\", \"own\", \"same\", \"she\", \"she'd\", \"she'll\", \"she's\", \"should\", \"so\", \"some\", \"such\", \"than\", \"that\", \"that's\", \"the\", \"their\", \"theirs\", \"them\", \"themselves\", \"then\", \"there\", \"there's\", \"these\", \"they\", \"they'd\", \"they'll\", \"they're\", \"they've\", \"this\", \"those\", \"through\", \"to\", \"too\", \"under\", \"until\", \"up\", \"very\", \"was\", \"we\", \"we'd\", \"we'll\", \"we're\", \"we've\", \"were\", \"what\", \"what's\", \"when\", \"when's\", \"where\", \"where's\", \"which\", \"while\", \"who\", \"who's\", \"whom\", \"why\", \"why's\", \"with\", \"would\", \"you\", \"you'd\", \"you'll\", \"you're\", \"you've\", \"your\", \"yours\", \"yourself\", \"yourselves\" ]\n",
        "print(len(stopwords))\n",
        "# Expected Output\n",
        "# 153"
      ],
      "execution_count": 0,
      "outputs": [
        {
          "output_type": "stream",
          "text": [
            "153\n"
          ],
          "name": "stdout"
        }
      ]
    },
    {
      "cell_type": "code",
      "metadata": {
        "id": "eutB2xMiZD0e",
        "colab_type": "code",
        "outputId": "179d2076-ca48-47b1-f99c-35278a8c62d4",
        "colab": {
          "base_uri": "https://localhost:8080/",
          "height": 105
        }
      },
      "source": [
        "with open(\"/tmp/bbc-text.csv\", 'r') as csvfile:\n",
        "    # YOUR CODE HERE\n",
        "  csvreader = csv.reader(csvfile, delimiter = ',')\n",
        "  next(csvreader)\n",
        "  for row in csvreader:\n",
        "    labels.append(row[0])\n",
        "    sentences.append(row[1])\n",
        "\n",
        "csvfile.close()\n",
        "    \n",
        "print(len(labels))\n",
        "print(len(sentences))\n",
        "print(sentences[0])\n",
        "print(labels[0])\n",
        "# Expected Output\n",
        "# 2225\n",
        "# 2225\n",
        "# tv future hands viewers home theatre systems  plasma high-definition tvs  digital video recorders moving living room  way people watch tv will radically different five years  time.  according expert panel gathered annual consumer electronics show las vegas discuss new technologies will impact one favourite pastimes. us leading trend  programmes content will delivered viewers via home networks  cable  satellite  telecoms companies  broadband service providers front rooms portable devices.  one talked-about technologies ces digital personal video recorders (dvr pvr). set-top boxes  like us s tivo uk s sky+ system  allow people record  store  play  pause forward wind tv programmes want.  essentially  technology allows much personalised tv. also built-in high-definition tv sets  big business japan us  slower take off europe lack high-definition programming. not can people forward wind adverts  can also forget abiding network channel schedules  putting together a-la-carte entertainment. us networks cable satellite companies worried means terms advertising revenues well  brand identity  viewer loyalty channels. although us leads technology moment  also concern raised europe  particularly growing uptake services like sky+.  happens today  will see nine months years  time uk   adam hume  bbc broadcast s futurologist told bbc news website. likes bbc  no issues lost advertising revenue yet. pressing issue moment commercial uk broadcasters  brand loyalty important everyone.  will talking content brands rather network brands   said tim hanlon  brand communications firm starcom mediavest.  reality broadband connections  anybody can producer content.  added:  challenge now hard promote programme much choice.   means  said stacey jolna  senior vice president tv guide tv group  way people find content want watch simplified tv viewers. means networks  us terms  channels take leaf google s book search engine future  instead scheduler help people find want watch. kind channel model might work younger ipod generation used taking control gadgets play them. might not suit everyone  panel recognised. older generations comfortable familiar schedules channel brands know getting. perhaps not want much choice put hands  mr hanlon suggested.  end  kids just diapers pushing buttons already - everything possible available   said mr hanlon.  ultimately  consumer will tell market want.   50 000 new gadgets technologies showcased ces  many enhancing tv-watching experience. high-definition tv sets everywhere many new models lcd (liquid crystal display) tvs launched dvr capability built  instead external boxes. one example launched show humax s 26-inch lcd tv 80-hour tivo dvr dvd recorder. one us s biggest satellite tv companies  directtv  even launched branded dvr show 100-hours recording capability  instant replay  search function. set can pause rewind tv 90 hours. microsoft chief bill gates announced pre-show keynote speech partnership tivo  called tivotogo  means people can play recorded programmes windows pcs mobile devices. reflect increasing trend freeing multimedia people can watch want  want."
      ],
      "execution_count": 0,
      "outputs": [
        {
          "output_type": "stream",
          "text": [
            "2225\n",
            "2225\n",
            "tv future in the hands of viewers with home theatre systems  plasma high-definition tvs  and digital video recorders moving into the living room  the way people watch tv will be radically different in five years  time.  that is according to an expert panel which gathered at the annual consumer electronics show in las vegas to discuss how these new technologies will impact one of our favourite pastimes. with the us leading the trend  programmes and other content will be delivered to viewers via home networks  through cable  satellite  telecoms companies  and broadband service providers to front rooms and portable devices.  one of the most talked-about technologies of ces has been digital and personal video recorders (dvr and pvr). these set-top boxes  like the us s tivo and the uk s sky+ system  allow people to record  store  play  pause and forward wind tv programmes when they want.  essentially  the technology allows for much more personalised tv. they are also being built-in to high-definition tv sets  which are big business in japan and the us  but slower to take off in europe because of the lack of high-definition programming. not only can people forward wind through adverts  they can also forget about abiding by network and channel schedules  putting together their own a-la-carte entertainment. but some us networks and cable and satellite companies are worried about what it means for them in terms of advertising revenues as well as  brand identity  and viewer loyalty to channels. although the us leads in this technology at the moment  it is also a concern that is being raised in europe  particularly with the growing uptake of services like sky+.  what happens here today  we will see in nine months to a years  time in the uk   adam hume  the bbc broadcast s futurologist told the bbc news website. for the likes of the bbc  there are no issues of lost advertising revenue yet. it is a more pressing issue at the moment for commercial uk broadcasters  but brand loyalty is important for everyone.  we will be talking more about content brands rather than network brands   said tim hanlon  from brand communications firm starcom mediavest.  the reality is that with broadband connections  anybody can be the producer of content.  he added:  the challenge now is that it is hard to promote a programme with so much choice.   what this means  said stacey jolna  senior vice president of tv guide tv group  is that the way people find the content they want to watch has to be simplified for tv viewers. it means that networks  in us terms  or channels could take a leaf out of google s book and be the search engine of the future  instead of the scheduler to help people find what they want to watch. this kind of channel model might work for the younger ipod generation which is used to taking control of their gadgets and what they play on them. but it might not suit everyone  the panel recognised. older generations are more comfortable with familiar schedules and channel brands because they know what they are getting. they perhaps do not want so much of the choice put into their hands  mr hanlon suggested.  on the other end  you have the kids just out of diapers who are pushing buttons already - everything is possible and available to them   said mr hanlon.  ultimately  the consumer will tell the market they want.   of the 50 000 new gadgets and technologies being showcased at ces  many of them are about enhancing the tv-watching experience. high-definition tv sets are everywhere and many new models of lcd (liquid crystal display) tvs have been launched with dvr capability built into them  instead of being external boxes. one such example launched at the show is humax s 26-inch lcd tv with an 80-hour tivo dvr and dvd recorder. one of the us s biggest satellite tv companies  directtv  has even launched its own branded dvr at the show with 100-hours of recording capability  instant replay  and a search function. the set can pause and rewind tv for up to 90 hours. and microsoft chief bill gates announced in his pre-show keynote speech a partnership with tivo  called tivotogo  which means people can play recorded programmes on windows pcs and mobile devices. all these reflect the increasing trend of freeing up multimedia so that people can watch what they want  when they want.\n",
            "tech\n"
          ],
          "name": "stdout"
        }
      ]
    },
    {
      "cell_type": "code",
      "metadata": {
        "id": "Xe0qodqIqtTl",
        "colab_type": "code",
        "outputId": "daba68da-b6ea-4d65-89f9-ba5f3a17f04e",
        "colab": {
          "base_uri": "https://localhost:8080/",
          "height": 54
        }
      },
      "source": [
        "sentence_len = list(len(sentence) for sentence in sentences)\n",
        "\n",
        "print(sentence_len)\n"
      ],
      "execution_count": 0,
      "outputs": [
        {
          "output_type": "stream",
          "text": [
            "[4333, 1842, 1342, 2176, 1579, 3533, 1486, 1051, 983, 1248, 1819, 1198, 1858, 1567, 2411, 1704, 2380, 2376, 1731, 2674, 1298, 2142, 3326, 824, 3775, 1219, 1444, 1593, 3519, 2235, 2845, 3718, 1264, 1647, 912, 1574, 1003, 1763, 2998, 1540, 2281, 1794, 2295, 1025, 1941, 7536, 2929, 3376, 1301, 992, 1224, 3196, 1863, 1567, 1719, 1102, 3060, 3364, 2415, 2866, 2978, 1869, 1446, 942, 1032, 2525, 1463, 2171, 1380, 2124, 3506, 1239, 2741, 1290, 1203, 3586, 2445, 3032, 1111, 1596, 1411, 1043, 1843, 1347, 1418, 1567, 1958, 1950, 3071, 1276, 1417, 719, 3835, 1278, 2918, 758, 1368, 3706, 1185, 3236, 1169, 2194, 5152, 3274, 2230, 2152, 872, 1687, 1500, 4041, 1950, 1641, 891, 1370, 831, 1332, 950, 2378, 3120, 2651, 933, 961, 1827, 3046, 1565, 1800, 3457, 1072, 3018, 2094, 2452, 2512, 1700, 1787, 1685, 2749, 948, 1765, 1584, 1345, 4042, 2291, 4692, 2042, 2172, 1826, 2964, 1412, 2408, 4390, 1582, 2590, 1418, 2016, 2937, 4213, 1932, 2477, 1907, 1622, 1356, 4896, 2926, 1078, 2211, 1708, 1541, 3143, 3632, 1978, 2986, 2633, 2141, 3093, 3386, 1782, 1874, 1073, 2843, 2714, 1723, 4351, 1216, 1699, 1747, 774, 2151, 754, 3007, 3292, 1463, 4942, 3250, 2448, 2322, 1755, 1449, 862, 1853, 2384, 989, 1657, 2520, 2486, 1336, 1474, 2601, 1574, 1560, 2200, 1224, 2802, 1003, 1301, 2131, 1169, 1571, 1217, 4058, 1218, 1230, 2232, 4980, 2419, 2177, 1644, 4372, 9471, 4893, 2313, 3476, 1645, 1724, 1049, 2097, 2173, 3068, 2193, 1630, 4041, 1193, 3882, 1483, 1106, 1499, 2091, 2633, 2194, 3154, 1256, 856, 4005, 2220, 1912, 1175, 2393, 1032, 3526, 4221, 5739, 954, 928, 3041, 3969, 3562, 1436, 2533, 1011, 2345, 3296, 2116, 2502, 783, 1351, 983, 2486, 1844, 1384, 2485, 3846, 2866, 1836, 2121, 3107, 2920, 2175, 850, 1835, 4113, 1439, 2434, 2449, 1391, 1140, 2206, 2939, 978, 785, 2929, 3549, 2072, 2986, 1050, 1217, 1000, 2355, 1785, 1236, 2132, 3629, 957, 888, 1073, 2980, 962, 3326, 1970, 1631, 3993, 4601, 944, 2670, 2802, 501, 3111, 1589, 1914, 1205, 1516, 3103, 1632, 4912, 1580, 1758, 1134, 1533, 1394, 2186, 2713, 3252, 3852, 4808, 2752, 2435, 2464, 1294, 1721, 1399, 1977, 2389, 1614, 6085, 3387, 1336, 2103, 1512, 1771, 2880, 1038, 2304, 1388, 1524, 1634, 1475, 3576, 1554, 3895, 909, 2001, 1124, 4609, 1675, 1078, 2147, 1183, 3535, 2168, 1731, 2756, 2013, 1659, 2076, 1280, 1880, 1504, 4881, 1404, 1407, 1165, 3364, 1836, 1702, 1601, 2356, 1730, 1414, 1326, 3132, 2973, 2902, 1335, 1986, 2657, 2757, 2025, 2377, 1219, 1299, 25483, 2110, 1992, 1607, 1929, 1244, 4332, 1410, 1732, 1898, 1772, 1178, 1348, 762, 1538, 1494, 1461, 1536, 1281, 1429, 2941, 1761, 2598, 2856, 3964, 883, 2129, 4441, 1071, 2768, 1600, 1452, 2340, 1340, 2774, 2127, 1827, 1054, 2377, 1619, 856, 1171, 1843, 1695, 1141, 3009, 1823, 3373, 1536, 5810, 1818, 2139, 2106, 1143, 5088, 3028, 1201, 1512, 2949, 1524, 3512, 2905, 3106, 7322, 3386, 1292, 1639, 1410, 2521, 1987, 2492, 1103, 1298, 1968, 16158, 2724, 981, 1600, 3179, 1396, 773, 2623, 3562, 3158, 1486, 2080, 2306, 3054, 1380, 3388, 4470, 1927, 2093, 1179, 1235, 2371, 1875, 1868, 3686, 2006, 5488, 1494, 1435, 1369, 2575, 1282, 3839, 1375, 1505, 3758, 1442, 2237, 2443, 1855, 1563, 1641, 1935, 858, 1377, 1857, 823, 755, 4559, 1804, 1329, 1809, 4125, 1416, 1123, 1723, 1168, 3099, 3127, 1676, 2967, 1708, 2695, 755, 1285, 4042, 3450, 1375, 2779, 2226, 2152, 4610, 1266, 1446, 2458, 2599, 1222, 2011, 1347, 1057, 3349, 3492, 973, 2410, 1571, 2619, 1690, 1104, 1365, 1665, 1267, 1796, 3511, 2073, 2201, 1545, 857, 2208, 2575, 3639, 1230, 3287, 1578, 4468, 1378, 848, 1093, 2031, 1103, 1704, 3834, 884, 1121, 1390, 1697, 1845, 2020, 2291, 1445, 1743, 1289, 2397, 1970, 7313, 3995, 2174, 1930, 1814, 2035, 830, 5670, 2976, 1384, 5095, 3125, 5887, 3645, 1624, 1498, 2218, 2858, 1985, 4171, 1859, 3095, 1566, 2891, 1588, 3036, 2250, 1528, 1148, 727, 3832, 2680, 2200, 4438, 3325, 2007, 1490, 1791, 1764, 4282, 861, 3123, 2693, 1580, 5102, 1988, 1340, 4525, 1131, 3977, 1585, 877, 2449, 936, 1411, 2383, 1207, 1629, 3242, 2182, 2523, 2194, 1951, 3215, 1011, 2160, 4253, 2322, 1729, 5122, 5423, 1647, 18387, 1407, 958, 1052, 1767, 2187, 1036, 2037, 1649, 1078, 2118, 2920, 1921, 1223, 2654, 1376, 1261, 1612, 808, 2465, 2252, 4798, 2242, 3500, 4950, 4108, 1688, 2514, 1058, 2388, 1989, 1616, 1791, 1747, 1603, 1160, 4494, 1045, 1334, 1356, 3534, 2129, 1920, 1285, 2233, 892, 775, 933, 877, 1460, 2145, 910, 818, 1629, 1724, 4021, 1447, 1846, 1914, 2913, 1416, 1690, 3302, 2282, 1198, 1089, 2014, 3015, 2140, 2531, 2431, 2866, 1637, 1615, 3315, 1817, 2131, 3530, 2932, 1544, 2405, 2539, 2122, 2970, 3799, 1185, 2585, 2155, 846, 1031, 2718, 2805, 1229, 1926, 3155, 3091, 3627, 1479, 813, 2283, 2468, 2598, 3793, 2384, 2749, 2996, 1395, 1455, 5215, 1948, 2294, 1733, 2422, 1943, 2846, 1929, 4205, 1831, 2910, 2276, 3068, 1445, 1366, 3692, 4255, 1309, 2636, 1388, 2220, 1391, 2295, 2077, 2858, 781, 1815, 1785, 1883, 2047, 2696, 3868, 3152, 1296, 2319, 1600, 2261, 3090, 2039, 2448, 1254, 2132, 2080, 2117, 1065, 3342, 3455, 1470, 1528, 1736, 1292, 1527, 3215, 1536, 4416, 3495, 1833, 1399, 3858, 4736, 1922, 1525, 2427, 2592, 2367, 2897, 5355, 1410, 2836, 3581, 1503, 1266, 2522, 2818, 2949, 2043, 3018, 1410, 3704, 3395, 12912, 1495, 1632, 2551, 1877, 1640, 1897, 2998, 1980, 2091, 1791, 3267, 2958, 1522, 1239, 13619, 1440, 3952, 3582, 1058, 1207, 2856, 2844, 1102, 2496, 4222, 3202, 2821, 1397, 2858, 1460, 1839, 3526, 889, 2011, 1643, 3716, 3919, 1803, 1834, 2517, 1387, 4019, 2274, 3300, 1032, 3128, 4731, 1469, 1224, 1988, 2190, 1894, 2874, 1057, 2602, 1894, 1293, 2689, 1423, 3148, 2891, 2512, 2567, 3243, 2129, 1886, 1391, 1650, 1877, 1322, 1239, 3863, 2625, 1315, 1223, 2550, 999, 1929, 1671, 2710, 2845, 1133, 1303, 2346, 3323, 4209, 1670, 1771, 2632, 1444, 4041, 1138, 2487, 2084, 1822, 3412, 3031, 1530, 5049, 1312, 2988, 1843, 1950, 1617, 1415, 3496, 2452, 1597, 1161, 1558, 2034, 2513, 1484, 3121, 1236, 2629, 931, 2575, 1959, 1347, 2728, 2576, 1110, 1137, 1857, 1760, 2488, 1702, 997, 3398, 1707, 1475, 3414, 1543, 1429, 2440, 2194, 1739, 5785, 3264, 1874, 3537, 2162, 2497, 2081, 5139, 2653, 900, 2509, 1536, 1062, 849, 2945, 775, 2293, 4416, 1299, 4278, 2945, 5272, 1956, 1393, 2573, 1394, 3423, 2897, 1293, 3101, 2986, 2598, 3025, 1968, 2447, 1998, 1995, 2147, 1447, 4519, 2799, 2868, 769, 1642, 1592, 2496, 1739, 1366, 2070, 2216, 1033, 1544, 4433, 2700, 1268, 1295, 3242, 1494, 3789, 1985, 1712, 1369, 1785, 1492, 1576, 2080, 1251, 3391, 1646, 1944, 2869, 1802, 2129, 1415, 2271, 2597, 3432, 1914, 3182, 2232, 1780, 1930, 2246, 3024, 2371, 1251, 2309, 2106, 2124, 1391, 2195, 1296, 3930, 2480, 1013, 739, 3104, 2283, 1265, 4142, 3201, 1208, 1182, 2626, 1656, 2660, 5101, 3211, 2332, 3097, 1477, 2840, 1287, 3017, 2429, 1183, 3193, 2875, 2551, 1821, 3114, 2170, 1753, 3307, 784, 2820, 5853, 2491, 880, 2625, 4744, 2900, 1338, 1309, 2616, 3163, 2528, 2609, 2057, 2550, 1795, 2238, 2104, 1211, 3443, 1413, 2882, 1689, 1177, 786, 3841, 2495, 2618, 2858, 1755, 1328, 2939, 990, 2421, 2516, 1329, 1974, 2407, 2223, 1994, 2690, 1404, 2123, 2278, 1016, 1929, 4175, 2240, 3567, 1355, 1429, 1357, 2502, 2304, 3779, 1463, 3718, 1183, 1497, 1786, 7800, 1995, 2858, 3473, 3864, 5406, 967, 1747, 1391, 1377, 2321, 2672, 1686, 2740, 1534, 3164, 2716, 2389, 2263, 3529, 1712, 2146, 898, 980, 1876, 3179, 1550, 1350, 1281, 2146, 1563, 2309, 1995, 2283, 1654, 2681, 3112, 1730, 1453, 2865, 3680, 3563, 1926, 3136, 941, 1794, 3076, 1267, 1806, 1150, 2999, 5395, 1844, 2481, 2587, 2321, 1268, 1159, 2072, 1210, 2169, 1531, 2743, 1984, 3524, 1101, 1090, 1655, 2386, 2104, 2842, 1949, 1692, 3512, 3924, 2025, 2612, 2686, 1793, 2887, 811, 1351, 2084, 2789, 3205, 1171, 4435, 1795, 1640, 2315, 1421, 3418, 801, 2490, 2038, 1281, 2434, 2778, 1373, 3092, 2783, 1351, 3225, 1431, 1951, 3030, 1477, 2760, 2438, 1117, 1839, 2555, 1350, 926, 1994, 1380, 6084, 3603, 1012, 1808, 2186, 2616, 1965, 1925, 1360, 3239, 891, 2638, 2145, 2636, 827, 2846, 2425, 1298, 1950, 2238, 2480, 2952, 3111, 1497, 1796, 1743, 1689, 1489, 4208, 2957, 3059, 1805, 4703, 2206, 1432, 2258, 2140, 1312, 1146, 5218, 1460, 3886, 2823, 1554, 1352, 1546, 1458, 2772, 2313, 2645, 1383, 1111, 4151, 1345, 2893, 3851, 2175, 3885, 1731, 3342, 1165, 2525, 3151, 1929, 1369, 2855, 3313, 4188, 1983, 1744, 1870, 2672, 967, 1117, 937, 4388, 3205, 1515, 3425, 3804, 3446, 1423, 1205, 1780, 3107, 965, 1167, 3012, 3355, 2847, 900, 2803, 2372, 1881, 3638, 6280, 1976, 2802, 1247, 1536, 1309, 1531, 2026, 4204, 993, 1141, 2789, 2073, 1770, 1170, 4020, 2776, 2227, 2916, 1831, 1624, 1591, 1526, 2508, 2418, 1123, 1503, 4288, 1933, 3702, 2609, 2232, 1871, 5011, 1755, 2372, 1822, 2810, 2438, 1767, 2518, 5290, 2397, 1573, 1091, 2229, 3711, 1622, 1553, 1935, 2709, 1635, 2282, 4791, 4212, 3188, 2361, 880, 6632, 1614, 3315, 1497, 2323, 2575, 3540, 2732, 1812, 1534, 2971, 1518, 1207, 2255, 1245, 1526, 1766, 3244, 1946, 4604, 2113, 2878, 1466, 2134, 1304, 1151, 1547, 1993, 1374, 1469, 1500, 1052, 1343, 2246, 1114, 1983, 2095, 3428, 851, 2834, 3637, 3197, 2149, 4678, 2042, 1582, 1024, 1777, 1898, 1325, 3740, 2795, 1707, 1799, 1377, 5100, 8826, 4610, 3069, 1999, 1666, 2257, 2614, 2657, 2014, 1278, 2108, 3068, 1653, 2517, 3132, 3548, 2207, 2800, 1199, 4044, 1315, 1250, 1543, 2247, 810, 1164, 1688, 1478, 1784, 2473, 2012, 4160, 1665, 1556, 1459, 4053, 2186, 1532, 3483, 3352, 3864, 2408, 1806, 1345, 1400, 1702, 2667, 1942, 1076, 1249, 1838, 1717, 2378, 945, 1162, 1683, 2777, 1014, 2365, 3410, 2896, 860, 2697, 1783, 2166, 2983, 1894, 1588, 980, 1453, 1851, 3246, 3242, 1656, 2635, 1370, 2524, 1464, 2554, 1699, 2897, 1466, 2315, 1870, 1818, 1987, 2865, 2605, 1284, 1733, 13826, 1052, 1293, 2104, 2728, 4516, 954, 2211, 2767, 837, 1328, 19136, 1618, 1937, 910, 1861, 2077, 1894, 2204, 3961, 2378, 1911, 2399, 1446, 2602, 2540, 3874, 1392, 1869, 1547, 2466, 1058, 1657, 1379, 4332, 2383, 3749, 784, 1379, 1049, 1549, 1551, 1453, 2588, 1831, 1711, 1646, 2514, 1308, 4122, 1199, 1957, 1714, 952, 1777, 1652, 2998, 3705, 1548, 1673, 1584, 1021, 4328, 1579, 768, 957, 1199, 2313, 1786, 2517, 1606, 1154, 1791, 1227, 1515, 1298, 1107, 2136, 3366, 1820, 1378, 1360, 3755, 2557, 1690, 3698, 1273, 1074, 1420, 768, 1716, 2448, 1005, 3016, 2960, 3710, 1846, 899, 1118, 2252, 2195, 1405, 1458, 2882, 1601, 1876, 1659, 2497, 1482, 1475, 2045, 1171, 2171, 1928, 1785, 741, 2602, 3576, 1414, 2845, 2830, 1551, 2296, 1748, 2521, 2399, 2662, 1535, 3919, 2362, 1934, 2992, 1134, 1703, 2086, 1437, 985, 2624, 4898, 1855, 3623, 1053, 1319, 3130, 1556, 1291, 3364, 1963, 1572, 1896, 2198, 1765, 1980, 2532, 1730, 1473, 2205, 2819, 1334, 2461, 3290, 1368, 2787, 1638, 759, 1231, 1385, 7121, 5102, 1436, 3128, 2124, 3110, 3398, 3457, 1037, 1495, 1599, 2726, 1564, 921, 1838, 1270, 2268, 1501, 1353, 1454, 2355, 2312, 1592, 2480, 1517, 1342, 1755, 1562, 2159, 2891, 1573, 1639, 1639, 3377, 3171, 2521, 1180, 1193, 1760, 4461, 1217, 1594, 1549, 1230, 2004, 2562, 2504, 2382, 4350, 974, 3146, 2162, 2361, 1772, 1872, 804, 1512, 1348, 1014, 3562, 1227, 1866, 2128, 2408, 1883, 2658, 2324, 2270, 1226, 1009, 2879, 1043, 2128, 3164, 1541, 2172, 2886, 3770, 3268, 1578, 3079, 1887, 1579, 3018, 2611, 1760, 4448, 892, 3580, 936, 789, 1009, 1795, 2186, 1368, 2375, 1037, 1418, 2309, 1325, 1526, 1662, 1665, 3290, 1859, 2911, 2049, 3632, 4122, 4205, 2437, 3351, 724, 862, 1633, 1561, 1411, 1831, 1979, 938, 1375, 3196, 3978, 1744, 1665, 5204, 955, 3632, 1575, 2793, 1197, 2660, 1455, 5707, 2226, 1447, 1583, 1683, 2371, 2703, 2070, 1116, 1183, 2596, 2719, 1161, 3303, 1494, 2917, 4717, 1013, 1750, 927, 1613, 1682, 2541, 7764, 1338, 1253, 1171, 1314, 2350, 3383, 2497, 2908, 3832, 3151, 3083, 1320, 1569, 1753, 3046, 1580, 2296, 1490, 1453, 2515, 880, 1291, 2502, 2160, 1324, 1929, 1553, 1952, 1836, 982, 1259, 1247, 1176, 1317, 920, 2026, 1371, 1785, 2531, 2195, 2381, 2237, 1850, 1699, 905, 1689, 4775, 3618, 4103, 2481, 2019, 1305, 2878, 2494, 2989, 1221, 3072, 2636, 2538, 2138, 2412, 2198, 2708, 2460, 1675, 941, 4539, 1354, 3781, 881, 1851, 941, 2836, 2136, 1803, 1265, 922, 2936, 1691, 1730, 2128, 1230, 1926, 1780, 1126, 1920, 2909, 1285, 5101, 1052, 2965, 866, 2557, 1543, 2617, 2314, 3425, 2196, 1553, 1133, 1366, 3268, 1274, 1944, 3510, 2609, 2002, 4388, 1336, 1492, 1916, 1226, 1591, 1733, 769, 3276, 2341, 2173, 928, 1646, 1919, 2602, 1760, 1314, 1537, 2810, 1837, 1666, 3526, 1835, 1647, 3352, 1701, 1824, 2937, 3457, 1277, 2596, 2004, 1915, 3161, 1195, 1595, 1973, 1283, 781, 2004, 2374, 3853, 804, 1555, 804, 3719, 1101, 1938, 1683, 3239, 5144, 1148, 2478, 2879, 2368, 876, 3054, 1808, 1443, 4569, 2963, 909, 1477, 1547, 1226, 1705, 2112, 973, 3281, 2853, 3848, 2419, 2643, 3050, 2199, 811, 2935, 1147, 2084, 6098, 2994, 3290, 1893, 1864, 1083, 1091, 3115, 1558, 1328, 1116, 5087, 2551, 1892, 1331, 2631, 1548, 2999, 4807, 1548, 1735, 1582, 2910, 1825, 1069, 2147, 3427, 4317, 1298, 3580, 1271, 1270, 1245, 2001, 2032, 3929, 1536, 2918, 2673, 3794, 2134, 1625, 4417, 1325, 1938, 1412, 4951, 2575, 5182, 2980, 1491, 2765, 1536, 2234, 2151, 4253, 4613, 953, 3411, 3419, 3631, 1789, 1580, 2358, 3260, 2258, 1796, 1841, 2031, 2686, 2460, 1889, 2543, 2850, 1709, 5054, 1406, 4489, 1690, 1512, 1550, 1269, 1728, 2202, 2045, 1369, 3070, 1805, 2406, 1288, 2208, 4215, 1916, 1846, 1042, 2747, 1044, 1508, 2184, 1986, 3649, 1530, 2295, 4282, 1063, 1837, 1745, 955, 1648, 4684, 1167]\n"
          ],
          "name": "stdout"
        }
      ]
    },
    {
      "cell_type": "code",
      "metadata": {
        "id": "UrADBpWSpkhk",
        "colab_type": "code",
        "outputId": "8424eb20-514f-4fb2-fbb1-d16d23c493bb",
        "colab": {
          "base_uri": "https://localhost:8080/",
          "height": 303
        }
      },
      "source": [
        "import matplotlib.pyplot as plt\n",
        "sent_array = np.array(sentence_len)\n",
        "bins = np.arange(-5000, 5000, 500)\n",
        "plt.xlim([min(sent_array)-500, 6000]) #max(sent_array)+500]\n",
        "plt.hist(sent_array, bins=bins, alpha=0.5)\n",
        "\n",
        "\n",
        "print(max(sent_array))\n",
        "print(min(sent_array))"
      ],
      "execution_count": 0,
      "outputs": [
        {
          "output_type": "stream",
          "text": [
            "25483\n",
            "501\n"
          ],
          "name": "stdout"
        },
        {
          "output_type": "display_data",
          "data": {
            "image/png": "[encoded data removed]",
            "text/plain": [
              "<Figure size 432x288 with 1 Axes>"
            ]
          },
          "metadata": {
            "tags": []
          }
        }
      ]
    },
    {
      "cell_type": "code",
      "metadata": {
        "id": "XfdaWh06ZGe3",
        "colab_type": "code",
        "outputId": "920448a5-e6b5-46f9-dc6f-e7ac6b5b06c8",
        "colab": {
          "base_uri": "https://localhost:8080/",
          "height": 102
        }
      },
      "source": [
        "train_size = int(training_portion * len(sentences))# YOUR CODE HERE\n",
        "\n",
        "train_sentences = sentences[:train_size]# YOUR CODE HERE\n",
        "train_labels = labels[:train_size]# YOUR CODE HERE\n",
        "\n",
        "validation_sentences = sentences[train_size:]# YOUR CODE HERE\n",
        "validation_labels = labels[train_size:]# YOUR CODE HERE\n",
        "\n",
        "print(train_size)\n",
        "print(len(train_sentences))\n",
        "print(len(train_labels))\n",
        "print(len(validation_sentences))\n",
        "print(len(validation_labels))\n",
        "\n",
        "# Expected output (if training_portion=.8)\n",
        "# 1780\n",
        "# 1780\n",
        "# 1780\n",
        "# 445\n",
        "# 445"
      ],
      "execution_count": 0,
      "outputs": [
        {
          "output_type": "stream",
          "text": [
            "1780\n",
            "1780\n",
            "1780\n",
            "445\n",
            "445\n"
          ],
          "name": "stdout"
        }
      ]
    },
    {
      "cell_type": "code",
      "metadata": {
        "id": "ULzA8xhwZI22",
        "colab_type": "code",
        "outputId": "da7618d5-d9c5-4d40-ac19-94658bbfbc4e",
        "colab": {
          "base_uri": "https://localhost:8080/",
          "height": 119
        }
      },
      "source": [
        "tokenizer = Tokenizer(num_words = vocab_size, oov_token=oov_tok) # YOUR CODE HERE\n",
        "tokenizer.fit_on_texts(train_sentences)\n",
        "word_index = tokenizer.word_index# YOUR CODE HERE\n",
        "\n",
        "train_sequences = tokenizer.texts_to_sequences(train_sentences) # YOUR CODE HERE\n",
        "train_padded = pad_sequences(train_sequences,maxlen=max_length, truncating=trunc_type) # YOUR CODE HERE\n",
        "\n",
        "print(len(train_sequences[0]))\n",
        "print(len(train_padded[0]))\n",
        "\n",
        "print(len(train_sequences[1]))\n",
        "print(len(train_padded[1]))\n",
        "\n",
        "print(len(train_sequences[10]))\n",
        "print(len(train_padded[10]))\n",
        "\n",
        "# Expected Ouput\n",
        "# 449\n",
        "# 120\n",
        "# 200\n",
        "# 120\n",
        "# 192\n",
        "# 120"
      ],
      "execution_count": 0,
      "outputs": [
        {
          "output_type": "stream",
          "text": [
            "750\n",
            "250\n",
            "300\n",
            "250\n",
            "311\n",
            "250\n"
          ],
          "name": "stdout"
        }
      ]
    },
    {
      "cell_type": "code",
      "metadata": {
        "id": "c8PeFWzPZLW_",
        "colab_type": "code",
        "outputId": "072489f3-3a9e-4f14-8ea3-59a8e49ede37",
        "colab": {
          "base_uri": "https://localhost:8080/",
          "height": 51
        }
      },
      "source": [
        "validation_sequences = tokenizer.texts_to_sequences(validation_sentences) # YOUR CODE HERE\n",
        "validation_padded =   pad_sequences(validation_sequences,maxlen=max_length, truncating=trunc_type) # YOUR CODE HERE\n",
        "\n",
        "print(len(validation_sequences))\n",
        "print(validation_padded.shape)\n",
        "\n",
        "# Expected output\n",
        "# 445\n",
        "# (445, 120)"
      ],
      "execution_count": 0,
      "outputs": [
        {
          "output_type": "stream",
          "text": [
            "445\n",
            "(445, 250)\n"
          ],
          "name": "stdout"
        }
      ]
    },
    {
      "cell_type": "code",
      "metadata": {
        "id": "XkWiQ_FKZNp2",
        "colab_type": "code",
        "colab": {}
      },
      "source": [
        "label_tokenizer = # YOUR CODE HERE\n",
        "label_tokenizer.fit_on_texts(# YOUR CODE HERE)\n",
        "\n",
        "training_label_seq = # YOUR CODE HERE\n",
        "validation_label_seq = # YOUR CODE HERE\n",
        "\n",
        "print(training_label_seq[0])\n",
        "print(training_label_seq[1])\n",
        "print(training_label_seq[2])\n",
        "print(training_label_seq.shape)\n",
        "\n",
        "print(validation_label_seq[0])\n",
        "print(validation_label_seq[1])\n",
        "print(validation_label_seq[2])\n",
        "print(validation_label_seq.shape)\n",
        "\n",
        "# Expected output\n",
        "# [4]\n",
        "# [2]\n",
        "# [1]\n",
        "# (1780, 1)\n",
        "# [5]\n",
        "# [4]\n",
        "# [3]\n",
        "# (445, 1)"
      ],
      "execution_count": 0,
      "outputs": []
    },
    {
      "cell_type": "code",
      "metadata": {
        "id": "HZ5um4MWZP-W",
        "colab_type": "code",
        "colab": {}
      },
      "source": [
        "model = tf.keras.Sequential([\n",
        "# YOUR CODE HERE\n",
        "])\n",
        "model.compile(loss='sparse_categorical_crossentropy',optimizer='adam',metrics=['accuracy'])\n",
        "model.summary()\n",
        "\n",
        "# Expected Output\n",
        "# Layer (type)                 Output Shape              Param #   \n",
        "# =================================================================\n",
        "# embedding (Embedding)        (None, 120, 16)           16000     \n",
        "# _________________________________________________________________\n",
        "# global_average_pooling1d (Gl (None, 16)                0         \n",
        "# _________________________________________________________________\n",
        "# dense (Dense)                (None, 24)                408       \n",
        "# _________________________________________________________________\n",
        "# dense_1 (Dense)              (None, 6)                 150       \n",
        "# =================================================================\n",
        "# Total params: 16,558\n",
        "# Trainable params: 16,558\n",
        "# Non-trainable params: 0"
      ],
      "execution_count": 0,
      "outputs": []
    },
    {
      "cell_type": "code",
      "metadata": {
        "id": "XsfdxySKZSXu",
        "colab_type": "code",
        "colab": {}
      },
      "source": [
        "num_epochs = 30\n",
        "history = model.fit(# YOUR CODE HERE)"
      ],
      "execution_count": 0,
      "outputs": []
    },
    {
      "cell_type": "code",
      "metadata": {
        "id": "dQ0BX2apXS9u",
        "colab_type": "code",
        "colab": {}
      },
      "source": [
        "import matplotlib.pyplot as plt\n",
        "\n",
        "\n",
        "def plot_graphs(history, string):\n",
        "  plt.plot(history.history[string])\n",
        "  plt.plot(history.history['val_'+string])\n",
        "  plt.xlabel(\"Epochs\")\n",
        "  plt.ylabel(string)\n",
        "  plt.legend([string, 'val_'+string])\n",
        "  plt.show()\n",
        "  \n",
        "plot_graphs(history, \"acc\")\n",
        "plot_graphs(history, \"loss\")"
      ],
      "execution_count": 0,
      "outputs": []
    },
    {
      "cell_type": "code",
      "metadata": {
        "id": "w7Xc-uWxXhML",
        "colab_type": "code",
        "colab": {}
      },
      "source": [
        "reverse_word_index = dict([(value, key) for (key, value) in word_index.items()])\n",
        "\n",
        "def decode_sentence(text):\n",
        "    return ' '.join([reverse_word_index.get(i, '?') for i in text])\n"
      ],
      "execution_count": 0,
      "outputs": []
    },
    {
      "cell_type": "code",
      "metadata": {
        "id": "OhnFA_TDXrih",
        "colab_type": "code",
        "colab": {}
      },
      "source": [
        "e = model.layers[0]\n",
        "weights = e.get_weights()[0]\n",
        "print(weights.shape) # shape: (vocab_size, embedding_dim)\n",
        "\n",
        "# Expected output\n",
        "# (1000, 16)"
      ],
      "execution_count": 0,
      "outputs": []
    },
    {
      "cell_type": "code",
      "metadata": {
        "id": "_POzcWWAXudL",
        "colab_type": "code",
        "colab": {}
      },
      "source": [
        "import io\n",
        "\n",
        "out_v = io.open('vecs.tsv', 'w', encoding='utf-8')\n",
        "out_m = io.open('meta.tsv', 'w', encoding='utf-8')\n",
        "for word_num in range(1, vocab_size):\n",
        "  word = reverse_word_index[word_num]\n",
        "  embeddings = weights[word_num]\n",
        "  out_m.write(word + \"\\n\")\n",
        "  out_v.write('\\t'.join([str(x) for x in embeddings]) + \"\\n\")\n",
        "out_v.close()\n",
        "out_m.close()"
      ],
      "execution_count": 0,
      "outputs": []
    },
    {
      "cell_type": "code",
      "metadata": {
        "id": "VmqpQMZ_XyOa",
        "colab_type": "code",
        "colab": {}
      },
      "source": [
        "try:\n",
        "  from google.colab import files\n",
        "except ImportError:\n",
        "  pass\n",
        "else:\n",
        "  files.download('vecs.tsv')\n",
        "  files.download('meta.tsv')"
      ],
      "execution_count": 0,
      "outputs": []
    }
  ]
}