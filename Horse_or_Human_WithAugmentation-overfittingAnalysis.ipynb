{
  "nbformat": 4,
  "nbformat_minor": 0,
  "metadata": {
    "colab": {
      "name": "Horse-or-Human-WithAugmentation.ipynb",
      "version": "0.3.2",
      "provenance": [],
      "collapsed_sections": [],
      "toc_visible": true,
      "include_colab_link": true
    },
    "kernelspec": {
      "name": "python3",
      "display_name": "Python 3"
    },
    "accelerator": "GPU"
  },
  "cells": [
    {
      "cell_type": "markdown",
      "metadata": {
        "id": "view-in-github",
        "colab_type": "text"
      },
      "source": [
        "<a href=\"https://colab.research.google.com/github/kd303/tensorflow_coursera/blob/master/Horse_or_Human_WithAugmentation-overfittingAnalysis.ipynb\" target=\"_parent\"><img src=\"https://colab.research.google.com/assets/colab-badge.svg\" alt=\"Open In Colab\"/></a>"
      ]
    },
    {
      "cell_type": "code",
      "metadata": {
        "colab_type": "code",
        "id": "RXZT2UsyIVe_",
        "outputId": "27a56a46-9d46-4506-92a2-3d8aed3ab07b",
        "colab": {
          "base_uri": "https://localhost:8080/",
          "height": 411
        }
      },
      "source": [
        "!wget --no-check-certificate \\\n",
        "    https://storage.googleapis.com/laurencemoroney-blog.appspot.com/horse-or-human.zip \\\n",
        "    -O /tmp/horse-or-human.zip\n",
        "\n",
        "!wget --no-check-certificate \\\n",
        "    https://storage.googleapis.com/laurencemoroney-blog.appspot.com/validation-horse-or-human.zip \\\n",
        "    -O /tmp/validation-horse-or-human.zip\n",
        "  \n",
        "import os\n",
        "import zipfile\n",
        "\n",
        "local_zip = '/tmp/horse-or-human.zip'\n",
        "zip_ref = zipfile.ZipFile(local_zip, 'r')\n",
        "zip_ref.extractall('/tmp/horse-or-human')\n",
        "local_zip = '/tmp/validation-horse-or-human.zip'\n",
        "zip_ref = zipfile.ZipFile(local_zip, 'r')\n",
        "zip_ref.extractall('/tmp/validation-horse-or-human')\n",
        "zip_ref.close()\n",
        "# Directory with our training horse pictures\n",
        "train_horse_dir = os.path.join('/tmp/horse-or-human/horses')\n",
        "\n",
        "# Directory with our training human pictures\n",
        "train_human_dir = os.path.join('/tmp/horse-or-human/humans')\n",
        "\n",
        "# Directory with our training horse pictures\n",
        "validation_horse_dir = os.path.join('/tmp/validation-horse-or-human/horses')\n",
        "\n",
        "# Directory with our training human pictures\n",
        "validation_human_dir = os.path.join('/tmp/validation-horse-or-human/humans')"
      ],
      "execution_count": 0,
      "outputs": [
        {
          "output_type": "stream",
          "text": [
            "--2019-08-06 05:34:37--  https://storage.googleapis.com/laurencemoroney-blog.appspot.com/horse-or-human.zip\n",
            "Resolving storage.googleapis.com (storage.googleapis.com)... 74.125.141.128, 2607:f8b0:400c:c06::80\n",
            "Connecting to storage.googleapis.com (storage.googleapis.com)|74.125.141.128|:443... connected.\n",
            "HTTP request sent, awaiting response... 200 OK\n",
            "Length: 149574867 (143M) [application/zip]\n",
            "Saving to: ‘/tmp/horse-or-human.zip’\n",
            "\n",
            "/tmp/horse-or-human 100%[===================>] 142.65M   144MB/s    in 1.0s    \n",
            "\n",
            "2019-08-06 05:34:39 (144 MB/s) - ‘/tmp/horse-or-human.zip’ saved [149574867/149574867]\n",
            "\n",
            "--2019-08-06 05:34:40--  https://storage.googleapis.com/laurencemoroney-blog.appspot.com/validation-horse-or-human.zip\n",
            "Resolving storage.googleapis.com (storage.googleapis.com)... 74.125.141.128, 2607:f8b0:400c:c06::80\n",
            "Connecting to storage.googleapis.com (storage.googleapis.com)|74.125.141.128|:443... connected.\n",
            "HTTP request sent, awaiting response... 200 OK\n",
            "Length: 11480187 (11M) [application/zip]\n",
            "Saving to: ‘/tmp/validation-horse-or-human.zip’\n",
            "\n",
            "/tmp/validation-hor 100%[===================>]  10.95M  --.-KB/s    in 0.1s    \n",
            "\n",
            "2019-08-06 05:34:40 (73.1 MB/s) - ‘/tmp/validation-horse-or-human.zip’ saved [11480187/11480187]\n",
            "\n"
          ],
          "name": "stdout"
        }
      ]
    },
    {
      "cell_type": "markdown",
      "metadata": {
        "colab_type": "text",
        "id": "5oqBkNBJmtUv"
      },
      "source": [
        "## Building a Small Model from Scratch\n",
        "\n",
        "But before we continue, let's start defining the model:\n",
        "\n",
        "Step 1 will be to import tensorflow."
      ]
    },
    {
      "cell_type": "code",
      "metadata": {
        "id": "qvfZg3LQbD-5",
        "colab_type": "code",
        "colab": {}
      },
      "source": [
        "import tensorflow as tf"
      ],
      "execution_count": 0,
      "outputs": []
    },
    {
      "cell_type": "markdown",
      "metadata": {
        "colab_type": "text",
        "id": "BnhYCP4tdqjC"
      },
      "source": [
        "We then add convolutional layers as in the previous example, and flatten the final result to feed into the densely connected layers."
      ]
    },
    {
      "cell_type": "markdown",
      "metadata": {
        "id": "gokG5HKpdtzm",
        "colab_type": "text"
      },
      "source": [
        "Finally we add the densely connected layers. \n",
        "\n",
        "Note that because we are facing a two-class classification problem, i.e. a *binary classification problem*, we will end our network with a [*sigmoid* activation](https://wikipedia.org/wiki/Sigmoid_function), so that the output of our network will be a single scalar between 0 and 1, encoding the probability that the current image is class 1 (as opposed to class 0)."
      ]
    },
    {
      "cell_type": "code",
      "metadata": {
        "id": "PixZ2s5QbYQ3",
        "colab_type": "code",
        "outputId": "1ed239c2-97cd-4ddc-ef79-7b3e17eecd26",
        "colab": {
          "base_uri": "https://localhost:8080/",
          "height": 105
        }
      },
      "source": [
        "model = tf.keras.models.Sequential([\n",
        "    # Note the input shape is the desired size of the image 300x300 with 3 bytes color\n",
        "    # This is the first convolution\n",
        "    tf.keras.layers.Conv2D(16, (3,3), activation='relu', input_shape=(300, 300, 3)),\n",
        "    tf.keras.layers.MaxPooling2D(2, 2),\n",
        "    # The second convolution\n",
        "    tf.keras.layers.Conv2D(32, (3,3), activation='relu'),\n",
        "    tf.keras.layers.MaxPooling2D(2,2),\n",
        "    # The third convolution\n",
        "    tf.keras.layers.Conv2D(64, (3,3), activation='relu'),\n",
        "    tf.keras.layers.MaxPooling2D(2,2),\n",
        "    # The fourth convolution\n",
        "    tf.keras.layers.Conv2D(64, (3,3), activation='relu'),\n",
        "    tf.keras.layers.MaxPooling2D(2,2),\n",
        "    # The fifth convolution\n",
        "    tf.keras.layers.Conv2D(64, (3,3), activation='relu'),\n",
        "    tf.keras.layers.MaxPooling2D(2,2),\n",
        "    # Flatten the results to feed into a DNN\n",
        "    tf.keras.layers.Flatten(),\n",
        "    # 512 neuron hidden layer\n",
        "    tf.keras.layers.Dense(512, activation='relu'),\n",
        "    # Only 1 output neuron. It will contain a value from 0-1 where 0 for 1 class ('horses') and 1 for the other ('humans')\n",
        "    tf.keras.layers.Dense(1, activation='sigmoid')\n",
        "])"
      ],
      "execution_count": 0,
      "outputs": [
        {
          "output_type": "stream",
          "text": [
            "WARNING: Logging before flag parsing goes to stderr.\n",
            "W0806 05:34:50.191260 140616923817856 deprecation.py:506] From /usr/local/lib/python3.6/dist-packages/tensorflow/python/ops/init_ops.py:1251: calling VarianceScaling.__init__ (from tensorflow.python.ops.init_ops) with dtype is deprecated and will be removed in a future version.\n",
            "Instructions for updating:\n",
            "Call initializer instance with the dtype argument instead of passing it to the constructor\n"
          ],
          "name": "stderr"
        }
      ]
    },
    {
      "cell_type": "code",
      "metadata": {
        "colab_type": "code",
        "id": "8DHWhFP_uhq3",
        "outputId": "1f18e499-cc15-4cfd-837e-e04923402117",
        "colab": {
          "base_uri": "https://localhost:8080/",
          "height": 88
        }
      },
      "source": [
        "from tensorflow.keras.optimizers import RMSprop\n",
        "from tensorflow.keras.optimizers import Adam\n",
        "\n",
        "model.compile(loss='binary_crossentropy',\n",
        "              optimizer=Adam(learning_rate=0.0001),\n",
        "              metrics=['acc'])"
      ],
      "execution_count": 0,
      "outputs": [
        {
          "output_type": "stream",
          "text": [
            "W0806 05:34:54.653128 140616923817856 deprecation.py:323] From /usr/local/lib/python3.6/dist-packages/tensorflow/python/ops/nn_impl.py:180: add_dispatch_support.<locals>.wrapper (from tensorflow.python.ops.array_ops) is deprecated and will be removed in a future version.\n",
            "Instructions for updating:\n",
            "Use tf.where in 2.0, which has the same broadcast rule as np.where\n"
          ],
          "name": "stderr"
        }
      ]
    },
    {
      "cell_type": "code",
      "metadata": {
        "colab_type": "code",
        "id": "ClebU9NJg99G",
        "outputId": "09a99692-662a-4974-fd1d-51b914f8ea3c",
        "colab": {
          "base_uri": "https://localhost:8080/",
          "height": 51
        }
      },
      "source": [
        "from tensorflow.keras.preprocessing.image import ImageDataGenerator\n",
        "\n",
        "# All images will be rescaled by 1./255\n",
        "train_datagen = ImageDataGenerator(\n",
        "      rescale=1./255,\n",
        "      rotation_range=40,\n",
        "     # width_shift_range=0.2,\n",
        "     # height_shift_range=0.2,\n",
        "      shear_range=0.4,\n",
        "    #  zoom_range=0.2,\n",
        "      horizontal_flip=True,\n",
        "      fill_mode='nearest')\n",
        "\n",
        "validation_datagen = ImageDataGenerator(rescale=1/255)\n",
        "\n",
        "# Flow training images in batches of 128 using train_datagen generator\n",
        "train_generator = train_datagen.flow_from_directory(\n",
        "        '/tmp/horse-or-human/',  # This is the source directory for training images\n",
        "        target_size=(300, 300),  # All images will be resized to 150x150\n",
        "        batch_size=128,\n",
        "        # Since we use binary_crossentropy loss, we need binary labels\n",
        "        class_mode='binary')\n",
        "\n",
        "# Flow training images in batches of 128 using train_datagen generator\n",
        "validation_generator = validation_datagen.flow_from_directory(\n",
        "        '/tmp/validation-horse-or-human/',  # This is the source directory for training images\n",
        "        target_size=(300, 300),  # All images will be resized to 150x150\n",
        "        batch_size=32,\n",
        "        # Since we use binary_crossentropy loss, we need binary labels\n",
        "        class_mode='binary')"
      ],
      "execution_count": 0,
      "outputs": [
        {
          "output_type": "stream",
          "text": [
            "Found 1027 images belonging to 2 classes.\n",
            "Found 256 images belonging to 2 classes.\n"
          ],
          "name": "stdout"
        }
      ]
    },
    {
      "cell_type": "code",
      "metadata": {
        "colab_type": "code",
        "id": "Fb1_lgobv81m",
        "outputId": "fb33af5b-0a1d-413f-a6eb-1a634ac0a867",
        "colab": {
          "base_uri": "https://localhost:8080/",
          "height": 1000
        }
      },
      "source": [
        "history = model.fit_generator(\n",
        "      train_generator,\n",
        "      steps_per_epoch=8,  \n",
        "      epochs=100,\n",
        "      verbose=1,\n",
        "      validation_data = validation_generator,\n",
        "      validation_steps=8)"
      ],
      "execution_count": 0,
      "outputs": [
        {
          "output_type": "stream",
          "text": [
            "Epoch 1/100\n",
            "8/8 [==============================] - 24s 3s/step - loss: 0.0347 - acc: 0.9889 - val_loss: 3.3050 - val_acc: 0.6094\n",
            "Epoch 2/100\n",
            "8/8 [==============================] - 23s 3s/step - loss: 0.0227 - acc: 0.9967 - val_loss: 4.4672 - val_acc: 0.5703\n",
            "Epoch 3/100\n",
            "8/8 [==============================] - 24s 3s/step - loss: 0.0145 - acc: 0.9989 - val_loss: 4.3691 - val_acc: 0.5898\n",
            "Epoch 4/100\n",
            "8/8 [==============================] - 26s 3s/step - loss: 0.0183 - acc: 0.9971 - val_loss: 5.3587 - val_acc: 0.5586\n",
            "Epoch 5/100\n",
            "8/8 [==============================] - 24s 3s/step - loss: 0.0170 - acc: 0.9956 - val_loss: 4.5786 - val_acc: 0.5977\n",
            "Epoch 6/100\n",
            "8/8 [==============================] - 23s 3s/step - loss: 0.0100 - acc: 1.0000 - val_loss: 5.3984 - val_acc: 0.5703\n",
            "Epoch 7/100\n",
            "8/8 [==============================] - 23s 3s/step - loss: 0.0113 - acc: 0.9978 - val_loss: 4.6293 - val_acc: 0.5977\n",
            "Epoch 8/100\n",
            "8/8 [==============================] - 23s 3s/step - loss: 0.0069 - acc: 1.0000 - val_loss: 4.9602 - val_acc: 0.5977\n",
            "Epoch 9/100\n",
            "8/8 [==============================] - 24s 3s/step - loss: 0.0119 - acc: 0.9989 - val_loss: 5.2228 - val_acc: 0.5977\n",
            "Epoch 10/100\n",
            "8/8 [==============================] - 23s 3s/step - loss: 0.0088 - acc: 0.9978 - val_loss: 5.2968 - val_acc: 0.5977\n",
            "Epoch 11/100\n",
            "8/8 [==============================] - 24s 3s/step - loss: 0.0071 - acc: 1.0000 - val_loss: 5.3690 - val_acc: 0.5977\n",
            "Epoch 12/100\n",
            "8/8 [==============================] - 24s 3s/step - loss: 0.0071 - acc: 0.9989 - val_loss: 5.6784 - val_acc: 0.5859\n",
            "Epoch 13/100\n",
            "8/8 [==============================] - 24s 3s/step - loss: 0.0061 - acc: 0.9989 - val_loss: 5.1602 - val_acc: 0.6016\n",
            "Epoch 14/100\n",
            "8/8 [==============================] - 24s 3s/step - loss: 0.0085 - acc: 0.9978 - val_loss: 5.3222 - val_acc: 0.5977\n",
            "Epoch 15/100\n",
            "8/8 [==============================] - 24s 3s/step - loss: 0.0045 - acc: 1.0000 - val_loss: 5.8570 - val_acc: 0.5898\n",
            "Epoch 16/100\n",
            "8/8 [==============================] - 27s 3s/step - loss: 0.0071 - acc: 1.0000 - val_loss: 5.0547 - val_acc: 0.6055\n",
            "Epoch 17/100\n",
            "8/8 [==============================] - 24s 3s/step - loss: 0.0083 - acc: 0.9978 - val_loss: 5.7853 - val_acc: 0.5898\n",
            "Epoch 18/100\n",
            "8/8 [==============================] - 23s 3s/step - loss: 0.0040 - acc: 1.0000 - val_loss: 5.1402 - val_acc: 0.6055\n",
            "Epoch 19/100\n",
            "8/8 [==============================] - 24s 3s/step - loss: 0.0064 - acc: 0.9989 - val_loss: 5.3946 - val_acc: 0.6016\n",
            "Epoch 20/100\n",
            "8/8 [==============================] - 24s 3s/step - loss: 0.0067 - acc: 0.9978 - val_loss: 5.7919 - val_acc: 0.5938\n",
            "Epoch 21/100\n",
            "8/8 [==============================] - 23s 3s/step - loss: 0.0105 - acc: 1.0000 - val_loss: 5.9501 - val_acc: 0.5898\n",
            "Epoch 22/100\n",
            "8/8 [==============================] - 27s 3s/step - loss: 0.0122 - acc: 0.9971 - val_loss: 5.2579 - val_acc: 0.6055\n",
            "Epoch 23/100\n",
            "8/8 [==============================] - 20s 3s/step - loss: 0.0063 - acc: 0.9987 - val_loss: 4.5658 - val_acc: 0.6172\n",
            "Epoch 24/100\n",
            "8/8 [==============================] - 23s 3s/step - loss: 0.0073 - acc: 1.0000 - val_loss: 5.4808 - val_acc: 0.6016\n",
            "Epoch 25/100\n",
            "8/8 [==============================] - 27s 3s/step - loss: 0.0062 - acc: 0.9990 - val_loss: 5.0692 - val_acc: 0.6055\n",
            "Epoch 26/100\n",
            "8/8 [==============================] - 23s 3s/step - loss: 0.0059 - acc: 1.0000 - val_loss: 6.3097 - val_acc: 0.5859\n",
            "Epoch 27/100\n",
            "8/8 [==============================] - 24s 3s/step - loss: 0.0042 - acc: 1.0000 - val_loss: 6.0766 - val_acc: 0.5898\n",
            "Epoch 28/100\n",
            "8/8 [==============================] - 24s 3s/step - loss: 0.0078 - acc: 1.0000 - val_loss: 5.8329 - val_acc: 0.5977\n",
            "Epoch 29/100\n",
            "8/8 [==============================] - 23s 3s/step - loss: 0.0051 - acc: 0.9978 - val_loss: 6.4567 - val_acc: 0.5898\n",
            "Epoch 30/100\n",
            "8/8 [==============================] - 23s 3s/step - loss: 0.0040 - acc: 1.0000 - val_loss: 5.4291 - val_acc: 0.6094\n",
            "Epoch 31/100\n",
            "8/8 [==============================] - 27s 3s/step - loss: 0.0041 - acc: 1.0000 - val_loss: 5.6497 - val_acc: 0.6055\n",
            "Epoch 32/100\n",
            "8/8 [==============================] - 20s 3s/step - loss: 0.0046 - acc: 1.0000 - val_loss: 6.2418 - val_acc: 0.5938\n",
            "Epoch 33/100\n",
            "8/8 [==============================] - 26s 3s/step - loss: 0.0042 - acc: 0.9990 - val_loss: 5.6365 - val_acc: 0.6094\n",
            "Epoch 34/100\n",
            "8/8 [==============================] - 24s 3s/step - loss: 0.0043 - acc: 1.0000 - val_loss: 6.3375 - val_acc: 0.5938\n",
            "Epoch 35/100\n",
            "8/8 [==============================] - 20s 3s/step - loss: 0.0027 - acc: 1.0000 - val_loss: 6.1872 - val_acc: 0.5977\n",
            "Epoch 36/100\n",
            "8/8 [==============================] - 27s 3s/step - loss: 0.0032 - acc: 1.0000 - val_loss: 6.3757 - val_acc: 0.5938\n",
            "Epoch 37/100\n",
            "8/8 [==============================] - 23s 3s/step - loss: 0.0036 - acc: 1.0000 - val_loss: 5.9940 - val_acc: 0.6016\n",
            "Epoch 38/100\n",
            "8/8 [==============================] - 27s 3s/step - loss: 0.0029 - acc: 1.0000 - val_loss: 5.8406 - val_acc: 0.6094\n",
            "Epoch 39/100\n",
            "8/8 [==============================] - 23s 3s/step - loss: 0.0037 - acc: 1.0000 - val_loss: 5.8282 - val_acc: 0.6094\n",
            "Epoch 40/100\n",
            "8/8 [==============================] - 21s 3s/step - loss: 0.0028 - acc: 1.0000 - val_loss: 5.9926 - val_acc: 0.6055\n",
            "Epoch 41/100\n",
            "8/8 [==============================] - 26s 3s/step - loss: 0.0035 - acc: 0.9990 - val_loss: 6.2547 - val_acc: 0.6016\n",
            "Epoch 42/100\n",
            "8/8 [==============================] - 20s 3s/step - loss: 0.0031 - acc: 1.0000 - val_loss: 6.2122 - val_acc: 0.6055\n",
            "Epoch 43/100\n",
            "8/8 [==============================] - 26s 3s/step - loss: 0.0028 - acc: 1.0000 - val_loss: 6.6425 - val_acc: 0.5938\n",
            "Epoch 44/100\n",
            "8/8 [==============================] - 23s 3s/step - loss: 0.0045 - acc: 1.0000 - val_loss: 6.6704 - val_acc: 0.5938\n",
            "Epoch 45/100\n",
            "8/8 [==============================] - 23s 3s/step - loss: 0.0035 - acc: 1.0000 - val_loss: 6.1544 - val_acc: 0.6094\n",
            "Epoch 46/100\n",
            "8/8 [==============================] - 24s 3s/step - loss: 0.0024 - acc: 1.0000 - val_loss: 6.3327 - val_acc: 0.6016\n",
            "Epoch 47/100\n",
            "8/8 [==============================] - 23s 3s/step - loss: 0.0021 - acc: 1.0000 - val_loss: 6.2240 - val_acc: 0.6055\n",
            "Epoch 48/100\n",
            "8/8 [==============================] - 24s 3s/step - loss: 0.0034 - acc: 1.0000 - val_loss: 6.1564 - val_acc: 0.6094\n",
            "Epoch 49/100\n",
            "8/8 [==============================] - 24s 3s/step - loss: 0.0017 - acc: 1.0000 - val_loss: 6.4493 - val_acc: 0.6016\n",
            "Epoch 50/100\n",
            "8/8 [==============================] - 24s 3s/step - loss: 0.0028 - acc: 1.0000 - val_loss: 6.4712 - val_acc: 0.6055\n",
            "Epoch 51/100\n",
            "8/8 [==============================] - 27s 3s/step - loss: 0.0030 - acc: 1.0000 - val_loss: 6.6563 - val_acc: 0.6016\n",
            "Epoch 52/100\n",
            "8/8 [==============================] - 24s 3s/step - loss: 0.0035 - acc: 0.9989 - val_loss: 7.0541 - val_acc: 0.5938\n",
            "Epoch 53/100\n",
            "8/8 [==============================] - 24s 3s/step - loss: 0.0039 - acc: 1.0000 - val_loss: 6.6647 - val_acc: 0.6016\n",
            "Epoch 54/100\n",
            "8/8 [==============================] - 24s 3s/step - loss: 0.0022 - acc: 1.0000 - val_loss: 6.8151 - val_acc: 0.5938\n",
            "Epoch 55/100\n",
            "8/8 [==============================] - 24s 3s/step - loss: 0.0031 - acc: 0.9989 - val_loss: 5.5475 - val_acc: 0.6211\n",
            "Epoch 56/100\n",
            "8/8 [==============================] - 27s 3s/step - loss: 0.0036 - acc: 1.0000 - val_loss: 6.7909 - val_acc: 0.5938\n",
            "Epoch 57/100\n",
            "8/8 [==============================] - 20s 3s/step - loss: 0.0038 - acc: 0.9987 - val_loss: 5.7519 - val_acc: 0.6172\n",
            "Epoch 58/100\n",
            "8/8 [==============================] - 27s 3s/step - loss: 0.0030 - acc: 1.0000 - val_loss: 6.2487 - val_acc: 0.6133\n",
            "Epoch 59/100\n",
            "8/8 [==============================] - 20s 3s/step - loss: 0.0023 - acc: 1.0000 - val_loss: 6.0977 - val_acc: 0.6133\n",
            "Epoch 60/100\n",
            "8/8 [==============================] - 24s 3s/step - loss: 0.0023 - acc: 1.0000 - val_loss: 6.0594 - val_acc: 0.6133\n",
            "Epoch 61/100\n",
            "8/8 [==============================] - 27s 3s/step - loss: 0.0019 - acc: 1.0000 - val_loss: 6.5685 - val_acc: 0.6055\n",
            "Epoch 62/100\n",
            "8/8 [==============================] - 23s 3s/step - loss: 0.0016 - acc: 1.0000 - val_loss: 6.6993 - val_acc: 0.6055\n",
            "Epoch 63/100\n",
            "8/8 [==============================] - 24s 3s/step - loss: 0.0025 - acc: 1.0000 - val_loss: 6.9362 - val_acc: 0.5977\n",
            "Epoch 64/100\n",
            "8/8 [==============================] - 24s 3s/step - loss: 0.0018 - acc: 1.0000 - val_loss: 6.3585 - val_acc: 0.6133\n",
            "Epoch 65/100\n",
            "8/8 [==============================] - 24s 3s/step - loss: 0.0024 - acc: 1.0000 - val_loss: 7.0096 - val_acc: 0.5938\n",
            "Epoch 66/100\n",
            "8/8 [==============================] - 23s 3s/step - loss: 0.0026 - acc: 1.0000 - val_loss: 6.2017 - val_acc: 0.6133\n",
            "Epoch 67/100\n",
            "8/8 [==============================] - 27s 3s/step - loss: 0.0022 - acc: 1.0000 - val_loss: 7.0304 - val_acc: 0.5938\n",
            "Epoch 68/100\n",
            "8/8 [==============================] - 24s 3s/step - loss: 0.0039 - acc: 1.0000 - val_loss: 6.2682 - val_acc: 0.6133\n",
            "Epoch 69/100\n",
            "8/8 [==============================] - 24s 3s/step - loss: 0.0021 - acc: 1.0000 - val_loss: 6.2291 - val_acc: 0.6133\n",
            "Epoch 70/100\n",
            "8/8 [==============================] - 24s 3s/step - loss: 0.0022 - acc: 1.0000 - val_loss: 6.5481 - val_acc: 0.6133\n",
            "Epoch 71/100\n",
            "8/8 [==============================] - 23s 3s/step - loss: 0.0013 - acc: 1.0000 - val_loss: 6.5391 - val_acc: 0.6133\n",
            "Epoch 72/100\n",
            "8/8 [==============================] - 23s 3s/step - loss: 0.0016 - acc: 1.0000 - val_loss: 6.1387 - val_acc: 0.6172\n",
            "Epoch 73/100\n",
            "8/8 [==============================] - 24s 3s/step - loss: 0.0022 - acc: 1.0000 - val_loss: 6.4284 - val_acc: 0.6133\n",
            "Epoch 74/100\n",
            "8/8 [==============================] - 27s 3s/step - loss: 0.0017 - acc: 1.0000 - val_loss: 6.8015 - val_acc: 0.6094\n",
            "Epoch 75/100\n",
            "8/8 [==============================] - 20s 3s/step - loss: 0.0016 - acc: 1.0000 - val_loss: 6.4220 - val_acc: 0.6133\n",
            "Epoch 76/100\n",
            "8/8 [==============================] - 23s 3s/step - loss: 0.0017 - acc: 1.0000 - val_loss: 6.6342 - val_acc: 0.6133\n",
            "Epoch 77/100\n",
            "8/8 [==============================] - 27s 3s/step - loss: 0.0019 - acc: 1.0000 - val_loss: 6.9293 - val_acc: 0.6094\n",
            "Epoch 78/100\n",
            "8/8 [==============================] - 20s 3s/step - loss: 0.0019 - acc: 1.0000 - val_loss: 6.2375 - val_acc: 0.6172\n",
            "Epoch 79/100\n",
            "8/8 [==============================] - 27s 3s/step - loss: 0.0020 - acc: 1.0000 - val_loss: 7.2998 - val_acc: 0.5977\n",
            "Epoch 80/100\n",
            "8/8 [==============================] - 23s 3s/step - loss: 0.0022 - acc: 1.0000 - val_loss: 6.7965 - val_acc: 0.6133\n",
            "Epoch 81/100\n",
            "8/8 [==============================] - 23s 3s/step - loss: 0.0017 - acc: 1.0000 - val_loss: 7.0403 - val_acc: 0.6094\n",
            "Epoch 82/100\n",
            "8/8 [==============================] - 26s 3s/step - loss: 0.0026 - acc: 0.9990 - val_loss: 7.0112 - val_acc: 0.6094\n",
            "Epoch 83/100\n",
            "8/8 [==============================] - 21s 3s/step - loss: 0.0014 - acc: 1.0000 - val_loss: 6.7993 - val_acc: 0.6133\n",
            "Epoch 84/100\n",
            "8/8 [==============================] - 26s 3s/step - loss: 0.0013 - acc: 1.0000 - val_loss: 6.6682 - val_acc: 0.6133\n",
            "Epoch 85/100\n",
            "8/8 [==============================] - 20s 3s/step - loss: 0.0015 - acc: 1.0000 - val_loss: 6.6053 - val_acc: 0.6133\n",
            "Epoch 86/100\n",
            "8/8 [==============================] - 26s 3s/step - loss: 0.0016 - acc: 1.0000 - val_loss: 7.0797 - val_acc: 0.6133\n",
            "Epoch 87/100\n",
            "8/8 [==============================] - 23s 3s/step - loss: 0.0030 - acc: 0.9989 - val_loss: 7.3410 - val_acc: 0.5977\n",
            "Epoch 88/100\n",
            "8/8 [==============================] - 24s 3s/step - loss: 0.0021 - acc: 0.9989 - val_loss: 6.8805 - val_acc: 0.6133\n",
            "Epoch 89/100\n",
            "8/8 [==============================] - 23s 3s/step - loss: 0.0013 - acc: 1.0000 - val_loss: 6.8387 - val_acc: 0.6133\n",
            "Epoch 90/100\n",
            "8/8 [==============================] - 23s 3s/step - loss: 0.0011 - acc: 1.0000 - val_loss: 7.1299 - val_acc: 0.6133\n",
            "Epoch 91/100\n",
            "8/8 [==============================] - 26s 3s/step - loss: 0.0017 - acc: 1.0000 - val_loss: 6.9623 - val_acc: 0.6133\n",
            "Epoch 92/100\n",
            "8/8 [==============================] - 21s 3s/step - loss: 0.0011 - acc: 1.0000 - val_loss: 6.9746 - val_acc: 0.6133\n",
            "Epoch 93/100\n",
            "8/8 [==============================] - 23s 3s/step - loss: 0.0013 - acc: 1.0000 - val_loss: 7.4931 - val_acc: 0.5977\n",
            "Epoch 94/100\n",
            "8/8 [==============================] - 23s 3s/step - loss: 0.0010 - acc: 1.0000 - val_loss: 6.9214 - val_acc: 0.6172\n",
            "Epoch 95/100\n",
            "8/8 [==============================] - 23s 3s/step - loss: 0.0017 - acc: 1.0000 - val_loss: 6.8613 - val_acc: 0.6172\n",
            "Epoch 96/100\n",
            "8/8 [==============================] - 24s 3s/step - loss: 8.2730e-04 - acc: 1.0000 - val_loss: 6.8906 - val_acc: 0.6172\n",
            "Epoch 97/100\n",
            "8/8 [==============================] - 27s 3s/step - loss: 0.0021 - acc: 1.0000 - val_loss: 6.2899 - val_acc: 0.6172\n",
            "Epoch 98/100\n",
            "8/8 [==============================] - 23s 3s/step - loss: 0.0011 - acc: 1.0000 - val_loss: 6.9692 - val_acc: 0.6172\n",
            "Epoch 99/100\n",
            "8/8 [==============================] - 23s 3s/step - loss: 0.0015 - acc: 1.0000 - val_loss: 6.6807 - val_acc: 0.6172\n",
            "Epoch 100/100\n",
            "8/8 [==============================] - 24s 3s/step - loss: 9.1625e-04 - acc: 1.0000 - val_loss: 6.5839 - val_acc: 0.6172\n"
          ],
          "name": "stdout"
        }
      ]
    },
    {
      "cell_type": "code",
      "metadata": {
        "id": "DrGIZPSV8f-6",
        "colab_type": "code",
        "outputId": "937c913b-f015-4c85-9fc4-aa20f4b1eb4a",
        "colab": {
          "base_uri": "https://localhost:8080/",
          "height": 34
        }
      },
      "source": [
        "predicted_lbls = model.predict_generator(validation_generator, verbose=1)"
      ],
      "execution_count": 0,
      "outputs": [
        {
          "output_type": "stream",
          "text": [
            "8/8 [==============================] - 1s 148ms/step\n"
          ],
          "name": "stdout"
        }
      ]
    },
    {
      "cell_type": "code",
      "metadata": {
        "id": "mXWCULuxB6Ev",
        "colab_type": "code",
        "colab": {}
      },
      "source": [
        "#print(predicted_lbls)\n",
        "import numpy as np\n",
        "#print(np.rint(predicted_lbls))"
      ],
      "execution_count": 0,
      "outputs": []
    },
    {
      "cell_type": "code",
      "metadata": {
        "id": "T5BjGMKOpZoO",
        "colab_type": "code",
        "colab": {}
      },
      "source": [
        "y_pred = np.array(np.rint(predicted_lbls))\n",
        "y_true = validation_generator.classes.reshape((256,1))\n",
        "y_diff = y_true - y_pred\n",
        "wrg_class = y_diff.nonzero()"
      ],
      "execution_count": 0,
      "outputs": []
    },
    {
      "cell_type": "code",
      "metadata": {
        "id": "MlwSWvVKgflT",
        "colab_type": "code",
        "colab": {}
      },
      "source": [
        "def isHorseOrHuman(element, containsStr):\n",
        "  if(len(element) > 0):\n",
        "    if(element.find(containsStr) >= 0):\n",
        "      return True\n"
      ],
      "execution_count": 0,
      "outputs": []
    },
    {
      "cell_type": "code",
      "metadata": {
        "id": "y05pO0qN8_fE",
        "colab_type": "code",
        "outputId": "08ee32ff-f3d4-4114-e4d9-5bfffc74ce7f",
        "colab": {
          "base_uri": "https://localhost:8080/",
          "height": 51
        }
      },
      "source": [
        "nonzero_r = wrg_class[0]\n",
        "nonzero_c = wrg_class[1]\n",
        "\n",
        "\n",
        "filenames = validation_generator.filenames\n",
        "files_classification_error = []\n",
        "print(\"wrongly classified files....\")\n",
        "for i in nonzero_r:\n",
        "  files_classification_error.append(filenames[i])\n",
        "\n",
        "horses, humans = [], []\n",
        "\n",
        "for x in files_classification_error:(horses if isHorseOrHuman(x,'horse') else humans).append(x)\n",
        "\n",
        "print(\" Total incorrectly classified Horses : \"+str(len(horses)) + \" Total incorr. class. humans \"+str(len(humans))) "
      ],
      "execution_count": 0,
      "outputs": [
        {
          "output_type": "stream",
          "text": [
            "wrongly classified files....\n",
            " Total incorrectly classified Horses : 110 Total incorr. class. humans 19\n"
          ],
          "name": "stdout"
        }
      ]
    },
    {
      "cell_type": "code",
      "metadata": {
        "id": "4QNJbSXwb9tc",
        "colab_type": "code",
        "outputId": "58e2e6af-af17-4d27-eccb-561fc275f310",
        "colab": {
          "base_uri": "https://localhost:8080/",
          "height": 34
        }
      },
      "source": [
        "%matplotlib inline\n",
        "import matplotlib.pyplot as plt\n",
        "import random\n",
        "import matplotlib.image as mpimg\n",
        "\n",
        "nrow=6\n",
        "ncol=6\n",
        "\n",
        "fig = plt.gcf()\n",
        "fig.set_size_inches(4*nrow, 4*ncol)\n"
      ],
      "execution_count": 0,
      "outputs": [
        {
          "output_type": "display_data",
          "data": {
            "text/plain": [
              "<Figure size 1728x1728 with 0 Axes>"
            ]
          },
          "metadata": {
            "tags": []
          }
        }
      ]
    },
    {
      "cell_type": "code",
      "metadata": {
        "id": "JvJQqno8b53a",
        "colab_type": "code",
        "outputId": "3903ec7a-1632-4ef3-9cf5-978c631788f1",
        "colab": {
          "base_uri": "https://localhost:8080/",
          "height": 269
        }
      },
      "source": [
        "\n",
        "horse_images = random.sample(horses, k = 36)\n",
        "human_images = random.sample(humans, k = 0)\n",
        "val_dir = '/tmp/validation-horse-or-human/'\n",
        "horse_file_paths = [os.path.join(val_dir, horse) for horse in horse_images]\n",
        "human_file_paths = [os.path.join(val_dir, human) for human in human_images]\n",
        "\n",
        "for i, image_path in enumerate(horse_file_paths + human_file_paths):\n",
        "  subplt = plt.subplot(nrow, ncol, i + 1)\n",
        "  img = mpimg.imread(image_path)\n",
        "  plt.imshow(img)"
      ],
      "execution_count": 0,
      "outputs": [
        {
          "output_type": "display_data",
          "data": {
            "image/png": "[encoded data removed]",
            "text/plain": [
              "<Figure size 432x288 with 36 Axes>"
            ]
          },
          "metadata": {
            "tags": []
          }
        }
      ]
    },
    {
      "cell_type": "code",
      "metadata": {
        "id": "DrOTaVZSpbDz",
        "colab_type": "code",
        "colab": {}
      },
      "source": [
        ""
      ],
      "execution_count": 0,
      "outputs": []
    },
    {
      "cell_type": "code",
      "metadata": {
        "id": "7zNPRWOVJdOH",
        "colab_type": "code",
        "outputId": "7c080798-db90-4793-94a3-f32868973078",
        "colab": {
          "base_uri": "https://localhost:8080/",
          "height": 545
        }
      },
      "source": [
        "import matplotlib.pyplot as plt\n",
        "acc = history.history['acc']\n",
        "val_acc = history.history['val_acc']\n",
        "loss = history.history['loss']\n",
        "val_loss = history.history['val_loss']\n",
        "\n",
        "epochs = range(len(acc))\n",
        "\n",
        "plt.plot(epochs, acc, 'r', label='Training accuracy')\n",
        "plt.plot(epochs, val_acc, 'b', label='Validation accuracy')\n",
        "plt.title('Training and validation accuracy')\n",
        "\n",
        "plt.figure()\n",
        "\n",
        "plt.plot(epochs, loss, 'r', label='Training Loss')\n",
        "plt.plot(epochs, val_loss, 'b', label='Validation Loss')\n",
        "plt.title('Training and validation loss')\n",
        "plt.legend()\n",
        "\n",
        "plt.show()"
      ],
      "execution_count": 0,
      "outputs": [
        {
          "output_type": "display_data",
          "data": {
            "image/png": "[encoded data removed]",
            "text/plain": [
              "<Figure size 432x288 with 1 Axes>"
            ]
          },
          "metadata": {
            "tags": []
          }
        },
        {
          "output_type": "display_data",
          "data": {
            "image/png": "[encoded data removed]",
            "text/plain": [
              "<Figure size 432x288 with 1 Axes>"
            ]
          },
          "metadata": {
            "tags": []
          }
        }
      ]
    },
    {
      "cell_type": "code",
      "metadata": {
        "id": "KfxvpJtkOFEa",
        "colab_type": "code",
        "colab": {}
      },
      "source": [
        ""
      ],
      "execution_count": 0,
      "outputs": []
    }
  ]
}